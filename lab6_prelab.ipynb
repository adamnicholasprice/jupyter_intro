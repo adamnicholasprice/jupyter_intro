{
 "cells": [
  {
   "cell_type": "markdown",
   "metadata": {
    "deletable": false,
    "editable": false
   },
   "source": [
    "# Eart 116\n",
    "## Pre-lab\n",
    "#### Lab 6, Hydrographs and Hydrologic Computing"
   ]
  },
  {
   "cell_type": "markdown",
   "metadata": {
    "deletable": false,
    "editable": false
   },
   "source": [
    "This is an introduction to help you with the basics of JupyterLab (this awesome veiwer) and R programming Langauge. Please complete this short tutorial and turn it in with your lab. It will be helpful to reference this when you run into troubles in the lab.\n"
   ]
  },
  {
   "cell_type": "markdown",
   "metadata": {
    "deletable": false,
    "editable": false
   },
   "source": [
    "## Part 1: Using the Jupyter Notebook, Simple Function and Variable Assignment\n",
    "To start lets complete a simple calculation and run the cell below. Select the cell and hit \"Shift\" + \"Enter\" to run the cell."
   ]
  },
  {
   "cell_type": "code",
   "execution_count": null,
   "metadata": {
    "deletable": false,
    "editable": false
   },
   "outputs": [],
   "source": [
    "2+3"
   ]
  },
  {
   "cell_type": "markdown",
   "metadata": {
    "deletable": false,
    "editable": false
   },
   "source": [
    "As you have already suspected the output of the R code you wrote should print out the number 5. You could have also pressed the right arrow symbol (run button) on the menu as shown below but that would not make you look as cool, would it?\n",
    "\n",
    "![](lab_photos/play.jpg)\n"
   ]
  },
  {
   "cell_type": "markdown",
   "metadata": {
    "deletable": false,
    "editable": false
   },
   "source": [
    "To define the answer 5 to a variable assign and print it to your screen, run the cell below."
   ]
  },
  {
   "cell_type": "code",
   "execution_count": null,
   "metadata": {
    "deletable": false,
    "editable": false
   },
   "outputs": [],
   "source": [
    "x = 2+3\n",
    "print(x)"
   ]
  },
  {
   "cell_type": "markdown",
   "metadata": {
    "deletable": false,
    "editable": false
   },
   "source": [
    "### Your turn\n",
    "Assign 3+3 to the variable t below and print as seen in the previous step."
   ]
  },
  {
   "cell_type": "code",
   "execution_count": null,
   "metadata": {
    "deletable": false
   },
   "outputs": [],
   "source": []
  },
  {
   "cell_type": "markdown",
   "metadata": {
    "deletable": false,
    "editable": false
   },
   "source": [
    "The most important thing to do when using Jupyter, Excel, Word, or any computer program is saving. See the figure below on how to save your notebook and do that now!\n",
    "\n",
    "#### Either use the save button\n",
    "\n",
    "\n",
    "![](lab_photos/save_button.png)\n",
    "\n",
    "#### Or the save menu\n",
    "\n",
    "![](lab_photos/save_menu.png)\n",
    "\n"
   ]
  },
  {
   "cell_type": "markdown",
   "metadata": {
    "deletable": false,
    "editable": false
   },
   "source": [
    "## Part 2: Variables for Calculation and Statistical Functions"
   ]
  },
  {
   "cell_type": "markdown",
   "metadata": {
    "deletable": false,
    "editable": false
   },
   "source": [
    "Coding is very powerful and can be used to find important statistical information about data sets very quickly.\n",
    "\n",
    "Below we will use the summary command to find the mean, max, min, and percentile values for a dataset inlcuded with the R computing software. In the cell below, I loaded the CO2 dataset that has Carbon Dioxide uptake in grass plants, and printed the output to the screen. Run the cell below."
   ]
  },
  {
   "cell_type": "code",
   "execution_count": null,
   "metadata": {
    "deletable": false
   },
   "outputs": [],
   "source": [
    "data = CO2\n",
    "print(data)"
   ]
  },
  {
   "cell_type": "markdown",
   "metadata": {
    "deletable": false,
    "editable": false
   },
   "source": [
    "Next, lets find basic statistics for the CO2 dataset by running the cell below."
   ]
  },
  {
   "cell_type": "code",
   "execution_count": null,
   "metadata": {
    "deletable": false,
    "editable": false
   },
   "outputs": [],
   "source": [
    "summary(data)"
   ]
  },
  {
   "cell_type": "markdown",
   "metadata": {
    "deletable": false,
    "editable": false
   },
   "source": [
    " As you can see, the summary command obtains the stats for all columns of data regardless of the data type."
   ]
  },
  {
   "cell_type": "markdown",
   "metadata": {
    "deletable": false,
    "editable": false
   },
   "source": [
    "### Your turn\n",
    "\n",
    "In the cell below load the \"AirPassengers\" data set and print the results. This data shows the number of airpassengers every month from 1949 to 1960."
   ]
  },
  {
   "cell_type": "code",
   "execution_count": null,
   "metadata": {
    "deletable": false
   },
   "outputs": [],
   "source": [
    "data =\n",
    "print()"
   ]
  },
  {
   "cell_type": "markdown",
   "metadata": {
    "deletable": false,
    "editable": false
   },
   "source": [
    "### What was the number of passengers that traveled in the month of December in the year 1953. Insert your answer in the box below"
   ]
  },
  {
   "cell_type": "markdown",
   "metadata": {
    "deletable": false
   },
   "source": []
  },
  {
   "cell_type": "markdown",
   "metadata": {
    "deletable": false,
    "editable": false
   },
   "source": [
    "Use the summary command to compute simple statistics for the dataset and print the results to the screen."
   ]
  },
  {
   "cell_type": "code",
   "execution_count": null,
   "metadata": {
    "deletable": false
   },
   "outputs": [],
   "source": [
    "summary()"
   ]
  },
  {
   "cell_type": "markdown",
   "metadata": {
    "deletable": false,
    "editable": false
   },
   "source": [
    "### What was the median number of air passengers for the entire data set? Insert your answer in the box below."
   ]
  },
  {
   "cell_type": "markdown",
   "metadata": {
    "deletable": false
   },
   "source": []
  },
  {
   "cell_type": "markdown",
   "metadata": {
    "deletable": false,
    "editable": false
   },
   "source": [
    "### SAVE YOUR NOTEBOOK NOW!"
   ]
  },
  {
   "cell_type": "markdown",
   "metadata": {},
   "source": [
    "## Part 3: Saving Your Notebook and Printing\n",
    "\n"
   ]
  },
  {
   "cell_type": "markdown",
   "metadata": {
    "deletable": false,
    "editable": false
   },
   "source": [
    "The last and most important step in using a jupyter notebook is exporting your work. To do this go to File > Download As > HTML (or seen in the figure below). This will save your notebook to an easily printable format.\n",
    "\n",
    "\n",
    "![](lab_photos/html_export.png)\n",
    "\n",
    "### YOU ARE NOT DONE YET\n",
    "\n",
    "ALSO, export your Jupyter Notebook as a .ipynb .  To do this go to FILE > DOWNLOAD AS > Notebook (.ipynb) (or see the figure below). The saving of this file will help you come back to your work later if you do not finish today. Once reloading the webpage I gave you, the notebook WILL NOT SAVE YOUR CHANGES, however you will be able to drag and drop your noteboook back into the screen later. I will go over this!\n",
    "\n",
    "![](lab_photos/jupy_export.png)\n",
    "\n",
    "\n",
    "# Both of these files are needed to get full credit!!!!!!! Please print the .HTML which will open in a browser window and turn in your Notebook file electronically VIA canvas or email."
   ]
  },
  {
   "cell_type": "markdown",
   "metadata": {
    "deletable": false,
    "editable": false
   },
   "source": [
    "## Below are some additional resources that may aid in your Jupyter journey.\n",
    "\n",
    "http://www.hedaro.com/ipython-notebook "
   ]
  }
 ],
 "metadata": {
  "kernelspec": {
   "display_name": "R",
   "language": "R",
   "name": "ir"
  },
  "language_info": {
   "codemirror_mode": "r",
   "file_extension": ".r",
   "mimetype": "text/x-r-source",
   "name": "R",
   "pygments_lexer": "r",
   "version": "3.5.1"
  }
 },
 "nbformat": 4,
 "nbformat_minor": 2
}
